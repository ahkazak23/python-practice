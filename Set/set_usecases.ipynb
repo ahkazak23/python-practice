{
 "cells": [
  {
   "cell_type": "markdown",
   "id": "b57ff9f1",
   "metadata": {},
   "source": [
    "# Set creation"
   ]
  },
  {
   "cell_type": "code",
   "id": "8120118e",
   "metadata": {
    "ExecuteTime": {
     "end_time": "2025-06-21T06:50:16.886213Z",
     "start_time": "2025-06-21T06:50:16.881215Z"
    }
   },
   "source": [
    "s = {1, 2, 3}\n",
    "print(s)"
   ],
   "outputs": [
    {
     "name": "stdout",
     "output_type": "stream",
     "text": [
      "{1, 2, 3}\n"
     ]
    }
   ],
   "execution_count": 1
  },
  {
   "cell_type": "markdown",
   "id": "0595d575",
   "metadata": {},
   "source": [
    "# Empty set (edge case)"
   ]
  },
  {
   "cell_type": "code",
   "id": "8da56001",
   "metadata": {
    "ExecuteTime": {
     "end_time": "2025-06-21T06:50:25.825845Z",
     "start_time": "2025-06-21T06:50:25.820681Z"
    }
   },
   "source": [
    "s = set()\n",
    "print(s)"
   ],
   "outputs": [
    {
     "name": "stdout",
     "output_type": "stream",
     "text": [
      "set()\n"
     ]
    }
   ],
   "execution_count": 2
  },
  {
   "cell_type": "markdown",
   "id": "24310395",
   "metadata": {},
   "source": [
    "# Duplicates are removed"
   ]
  },
  {
   "cell_type": "code",
   "id": "642a5b5c",
   "metadata": {
    "ExecuteTime": {
     "end_time": "2025-06-21T06:50:38.775458Z",
     "start_time": "2025-06-21T06:50:38.771309Z"
    }
   },
   "source": [
    "s = {1, 2, 2, 3, 3}\n",
    "print(s)"
   ],
   "outputs": [
    {
     "name": "stdout",
     "output_type": "stream",
     "text": [
      "{1, 2, 3}\n"
     ]
    }
   ],
   "execution_count": 3
  },
  {
   "cell_type": "markdown",
   "id": "23d901e7",
   "metadata": {},
   "source": [
    "# Membership test with 'in'"
   ]
  },
  {
   "cell_type": "code",
   "id": "abf138ad",
   "metadata": {
    "ExecuteTime": {
     "end_time": "2025-06-21T06:51:04.744557Z",
     "start_time": "2025-06-21T06:51:04.739551Z"
    }
   },
   "source": [
    "s = {1, 2, 3}\n",
    "print(2 in s)\n",
    "print(5 in s)"
   ],
   "outputs": [
    {
     "name": "stdout",
     "output_type": "stream",
     "text": [
      "True\n",
      "False\n"
     ]
    }
   ],
   "execution_count": 4
  },
  {
   "cell_type": "markdown",
   "id": "4823914b",
   "metadata": {},
   "source": [
    "# Adding elements: add()"
   ]
  },
  {
   "cell_type": "code",
   "id": "ddc43b3a",
   "metadata": {
    "ExecuteTime": {
     "end_time": "2025-06-21T06:51:11.335317Z",
     "start_time": "2025-06-21T06:51:11.331451Z"
    }
   },
   "source": [
    "s = {1, 2}\n",
    "s.add(3)\n",
    "print(s)"
   ],
   "outputs": [
    {
     "name": "stdout",
     "output_type": "stream",
     "text": [
      "{1, 2, 3}\n"
     ]
    }
   ],
   "execution_count": 5
  },
  {
   "cell_type": "markdown",
   "id": "215f3f55",
   "metadata": {},
   "source": [
    "# Removing elements: remove() vs discard()"
   ]
  },
  {
   "cell_type": "code",
   "id": "7cb05d88",
   "metadata": {
    "ExecuteTime": {
     "end_time": "2025-06-21T06:52:22.372877Z",
     "start_time": "2025-06-21T06:52:22.366549Z"
    }
   },
   "source": [
    "s = {1, 2}\n",
    "s.remove(1)\n",
    "s.discard(5)\n",
    "print(s)"
   ],
   "outputs": [
    {
     "name": "stdout",
     "output_type": "stream",
     "text": [
      "set()\n"
     ]
    }
   ],
   "execution_count": 9
  },
  {
   "cell_type": "markdown",
   "id": "04ebe0be",
   "metadata": {},
   "source": [
    "# Clearing all elements"
   ]
  },
  {
   "cell_type": "code",
   "id": "d40f11d1",
   "metadata": {
    "ExecuteTime": {
     "end_time": "2025-06-21T06:52:32.549077Z",
     "start_time": "2025-06-21T06:52:32.544106Z"
    }
   },
   "source": [
    "s = {1, 2, 3}\n",
    "s.clear()\n",
    "print(s)"
   ],
   "outputs": [
    {
     "name": "stdout",
     "output_type": "stream",
     "text": [
      "set()\n"
     ]
    }
   ],
   "execution_count": 10
  },
  {
   "cell_type": "markdown",
   "id": "c2dfd50b",
   "metadata": {},
   "source": [
    "# Copying a set"
   ]
  },
  {
   "cell_type": "code",
   "id": "e17a0781",
   "metadata": {
    "ExecuteTime": {
     "end_time": "2025-06-21T06:52:39.766128Z",
     "start_time": "2025-06-21T06:52:39.762055Z"
    }
   },
   "source": [
    "s1 = {1, 2, 3}\n",
    "s2 = s1.copy()\n",
    "print(s2)"
   ],
   "outputs": [
    {
     "name": "stdout",
     "output_type": "stream",
     "text": [
      "{1, 2, 3}\n"
     ]
    }
   ],
   "execution_count": 11
  },
  {
   "cell_type": "markdown",
   "id": "261f4368",
   "metadata": {},
   "source": [
    "# Union, Intersection, Difference, Symmetric Difference"
   ]
  },
  {
   "cell_type": "code",
   "id": "be38527a",
   "metadata": {
    "ExecuteTime": {
     "end_time": "2025-06-21T06:54:41.869631Z",
     "start_time": "2025-06-21T06:54:41.863500Z"
    }
   },
   "source": [
    "a = {1, 2, 3}\n",
    "b = {3, 4, 5}\n",
    "print(a | b)\n",
    "print(a & b)\n",
    "print(b - a)\n",
    "print(a ^ b)"
   ],
   "outputs": [
    {
     "name": "stdout",
     "output_type": "stream",
     "text": [
      "{1, 2, 3, 4, 5}\n",
      "{3}\n",
      "{4, 5}\n",
      "{1, 2, 4, 5}\n"
     ]
    }
   ],
   "execution_count": 13
  },
  {
   "cell_type": "markdown",
   "id": "8dab40f2",
   "metadata": {},
   "source": [
    "# Set update variants: update, intersection_update, etc."
   ]
  },
  {
   "cell_type": "code",
   "id": "94a8a7d7",
   "metadata": {
    "ExecuteTime": {
     "end_time": "2025-06-21T06:55:28.830718Z",
     "start_time": "2025-06-21T06:55:28.826073Z"
    }
   },
   "source": [
    "a = {1, 2, 3}\n",
    "b = {2, 3, 4}\n",
    "a.update(b)\n",
    "print(a)"
   ],
   "outputs": [
    {
     "name": "stdout",
     "output_type": "stream",
     "text": [
      "{1, 2, 3, 4}\n"
     ]
    }
   ],
   "execution_count": 14
  },
  {
   "cell_type": "markdown",
   "id": "91830152",
   "metadata": {},
   "source": [
    "# Set comprehension"
   ]
  },
  {
   "cell_type": "code",
   "id": "c8f1cf63",
   "metadata": {
    "ExecuteTime": {
     "end_time": "2025-06-21T06:55:45.340093Z",
     "start_time": "2025-06-21T06:55:45.335345Z"
    }
   },
   "source": [
    "squares = {x*x for x in range(5)}\n",
    "print(squares)"
   ],
   "outputs": [
    {
     "name": "stdout",
     "output_type": "stream",
     "text": [
      "{0, 1, 4, 9, 16}\n"
     ]
    }
   ],
   "execution_count": 15
  },
  {
   "cell_type": "markdown",
   "id": "07a2bd08",
   "metadata": {},
   "source": [
    "# frozenset (immutable set)"
   ]
  },
  {
   "cell_type": "code",
   "id": "ad865a35",
   "metadata": {
    "ExecuteTime": {
     "end_time": "2025-06-21T06:56:31.488316Z",
     "start_time": "2025-06-21T06:56:31.482766Z"
    }
   },
   "source": [
    "f = frozenset([1, 2, 3])\n",
    "print(f)"
   ],
   "outputs": [
    {
     "name": "stdout",
     "output_type": "stream",
     "text": [
      "frozenset({1, 2, 3})\n"
     ]
    }
   ],
   "execution_count": 16
  },
  {
   "cell_type": "markdown",
   "id": "781697e0",
   "metadata": {},
   "source": [
    "# Sets are unordered and unindexed"
   ]
  },
  {
   "cell_type": "code",
   "id": "70952b1e",
   "metadata": {
    "ExecuteTime": {
     "end_time": "2025-06-21T06:57:10.345837Z",
     "start_time": "2025-06-21T06:57:10.341837Z"
    }
   },
   "source": [
    "s = {10, 20, 30}\n",
    "print(list(s))"
   ],
   "outputs": [
    {
     "name": "stdout",
     "output_type": "stream",
     "text": [
      "[10, 20, 30]\n"
     ]
    }
   ],
   "execution_count": 19
  },
  {
   "cell_type": "markdown",
   "id": "a77e0eea",
   "metadata": {},
   "source": [
    "# Set is not subscriptable (edge case)"
   ]
  },
  {
   "cell_type": "code",
   "id": "66c25f12",
   "metadata": {
    "ExecuteTime": {
     "end_time": "2025-06-21T06:57:18.876576Z",
     "start_time": "2025-06-21T06:57:18.872578Z"
    }
   },
   "source": [
    "s = {1, 2, 3}\n",
    "# print(s[0])  # TypeError"
   ],
   "outputs": [],
   "execution_count": 20
  },
  {
   "cell_type": "markdown",
   "id": "f3a46537",
   "metadata": {},
   "source": [
    "# Iterating through a set"
   ]
  },
  {
   "cell_type": "code",
   "id": "80acd2a9",
   "metadata": {
    "ExecuteTime": {
     "end_time": "2025-06-21T06:57:22.860691Z",
     "start_time": "2025-06-21T06:57:22.856684Z"
    }
   },
   "source": [
    "s = {'a', 'b', 'c'}\n",
    "for x in s:\n",
    "    print(x)"
   ],
   "outputs": [
    {
     "name": "stdout",
     "output_type": "stream",
     "text": [
      "b\n",
      "a\n",
      "c\n"
     ]
    }
   ],
   "execution_count": 21
  },
  {
   "cell_type": "markdown",
   "id": "b95babd3",
   "metadata": {},
   "source": [
    "# Checking subset/superset"
   ]
  },
  {
   "cell_type": "code",
   "id": "8cc4f2fd",
   "metadata": {
    "ExecuteTime": {
     "end_time": "2025-06-21T06:57:34.026655Z",
     "start_time": "2025-06-21T06:57:34.021791Z"
    }
   },
   "source": [
    "a = {1, 2}\n",
    "b = {1, 2, 3}\n",
    "print(a.issubset(b))\n",
    "print(b.issuperset(a))"
   ],
   "outputs": [
    {
     "name": "stdout",
     "output_type": "stream",
     "text": [
      "True\n",
      "True\n"
     ]
    }
   ],
   "execution_count": 22
  },
  {
   "cell_type": "markdown",
   "id": "f59b9416",
   "metadata": {},
   "source": [
    "# Disjoint sets"
   ]
  },
  {
   "cell_type": "code",
   "id": "db3edc16",
   "metadata": {
    "ExecuteTime": {
     "end_time": "2025-06-21T06:58:20.917101Z",
     "start_time": "2025-06-21T06:58:20.911898Z"
    }
   },
   "source": [
    "a = {1, 2}\n",
    "b = {3, 4}\n",
    "print(a.isdisjoint(b))"
   ],
   "outputs": [
    {
     "name": "stdout",
     "output_type": "stream",
     "text": [
      "True\n"
     ]
    }
   ],
   "execution_count": 23
  },
  {
   "cell_type": "markdown",
   "id": "0b91e4d4",
   "metadata": {},
   "source": [
    "# Real-life: unique words from a sentence"
   ]
  },
  {
   "cell_type": "code",
   "id": "3413dd1a",
   "metadata": {
    "ExecuteTime": {
     "end_time": "2025-06-21T06:58:46.322968Z",
     "start_time": "2025-06-21T06:58:46.317937Z"
    }
   },
   "source": [
    "sentence = 'this is a test this is'\n",
    "unique = set(sentence.split())\n",
    "print(unique)"
   ],
   "outputs": [
    {
     "name": "stdout",
     "output_type": "stream",
     "text": [
      "{'is', 'a', 'this', 'test'}\n"
     ]
    }
   ],
   "execution_count": 24
  },
  {
   "cell_type": "markdown",
   "id": "e248d27d",
   "metadata": {},
   "source": [
    "# Real-life: tags / labels use case"
   ]
  },
  {
   "cell_type": "code",
   "id": "3c9ad909",
   "metadata": {
    "ExecuteTime": {
     "end_time": "2025-06-21T06:59:08.470456Z",
     "start_time": "2025-06-21T06:59:08.436875Z"
    }
   },
   "source": [
    "tags1 = {'python', 'ai'}\n",
    "tags2 = {'python', 'web'}\n",
    "print(tags1 | tags2)"
   ],
   "outputs": [
    {
     "name": "stdout",
     "output_type": "stream",
     "text": [
      "{'ai', 'python', 'web'}\n"
     ]
    }
   ],
   "execution_count": 25
  },
  {
   "cell_type": "markdown",
   "id": "fd722088",
   "metadata": {},
   "source": [
    "# Real-life: removing duplicates from list"
   ]
  },
  {
   "cell_type": "code",
   "id": "b897178a",
   "metadata": {
    "ExecuteTime": {
     "end_time": "2025-06-21T06:59:21.540422Z",
     "start_time": "2025-06-21T06:59:21.534427Z"
    }
   },
   "source": [
    "nums = [1, 2, 2, 3, 3]\n",
    "print(list(set(nums)))"
   ],
   "outputs": [
    {
     "name": "stdout",
     "output_type": "stream",
     "text": [
      "[1, 2, 3]\n"
     ]
    }
   ],
   "execution_count": 26
  },
  {
   "cell_type": "markdown",
   "id": "9db9c3fd",
   "metadata": {},
   "source": [
    "# Real-life: fast lookups vs list"
   ]
  },
  {
   "cell_type": "code",
   "id": "936ae3bb",
   "metadata": {
    "ExecuteTime": {
     "end_time": "2025-06-21T06:59:32.672545Z",
     "start_time": "2025-06-21T06:59:32.667114Z"
    }
   },
   "source": [
    "items = set(range(10000))\n",
    "print(9999 in items)"
   ],
   "outputs": [
    {
     "name": "stdout",
     "output_type": "stream",
     "text": [
      "True\n"
     ]
    }
   ],
   "execution_count": 27
  },
  {
   "cell_type": "markdown",
   "id": "80e1d53d",
   "metadata": {},
   "source": [
    "# Real-life: survey results comparison"
   ]
  },
  {
   "cell_type": "code",
   "id": "ea9f108f",
   "metadata": {
    "ExecuteTime": {
     "end_time": "2025-06-21T06:59:53.772499Z",
     "start_time": "2025-06-21T06:59:53.766310Z"
    }
   },
   "source": [
    "survey1 = {'Ali', 'Yahya'}\n",
    "survey2 = {'Yahya', 'Mehmet'}\n",
    "print(survey1 & survey2)"
   ],
   "outputs": [
    {
     "name": "stdout",
     "output_type": "stream",
     "text": [
      "{'Yahya'}\n"
     ]
    }
   ],
   "execution_count": 28
  },
  {
   "cell_type": "markdown",
   "id": "da14e480",
   "metadata": {},
   "source": [
    "# Performance: set vs list lookup"
   ]
  },
  {
   "cell_type": "code",
   "id": "f689d0ce",
   "metadata": {
    "ExecuteTime": {
     "end_time": "2025-06-21T07:01:24.735345Z",
     "start_time": "2025-06-21T07:01:24.722061Z"
    }
   },
   "source": [
    "import time\n",
    "\n",
    "s = set(range(100000))\n",
    "l = list(range(100000))\n",
    "\n",
    "start = time.time()\n",
    "print('set:', 99999 in s)\n",
    "end = time.time()\n",
    "print('Set lookup time:', end - start)\n",
    "\n",
    "start = time.time()\n",
    "print('list:', 99999 in l)\n",
    "end = time.time()\n",
    "print('List lookup time:', end - start)"
   ],
   "outputs": [
    {
     "name": "stdout",
     "output_type": "stream",
     "text": [
      "set: True\n",
      "Set lookup time: 0.0\n",
      "list: True\n",
      "List lookup time: 0.0010018348693847656\n"
     ]
    }
   ],
   "execution_count": 33
  },
  {
   "cell_type": "markdown",
   "id": "0f0867ce",
   "metadata": {},
   "source": [
    "# Comparison: list vs set behavior"
   ]
  },
  {
   "cell_type": "code",
   "id": "543d942f",
   "metadata": {
    "ExecuteTime": {
     "end_time": "2025-06-21T07:01:33.264528Z",
     "start_time": "2025-06-21T07:01:33.258684Z"
    }
   },
   "source": [
    "a = [1, 2, 2, 3]\n",
    "b = {1, 2, 2, 3}\n",
    "print(a)\n",
    "print(b)"
   ],
   "outputs": [
    {
     "name": "stdout",
     "output_type": "stream",
     "text": [
      "[1, 2, 2, 3]\n",
      "{1, 2, 3}\n"
     ]
    }
   ],
   "execution_count": 34
  },
  {
   "cell_type": "markdown",
   "id": "951c556b",
   "metadata": {},
   "source": [
    "# Pitfall: mutable elements inside a set (invalid)"
   ]
  },
  {
   "cell_type": "code",
   "id": "e1c3a07c",
   "metadata": {
    "ExecuteTime": {
     "end_time": "2025-06-21T07:01:52.188319Z",
     "start_time": "2025-06-21T07:01:52.184251Z"
    }
   },
   "source": [
    "# s = {[1, 2], 3}  # TypeError: unhashable type: 'list'"
   ],
   "outputs": [],
   "execution_count": 35
  },
  {
   "cell_type": "markdown",
   "id": "a8c7760b",
   "metadata": {},
   "source": [
    "# Valid types in a set (hashable only)"
   ]
  },
  {
   "cell_type": "code",
   "id": "dd015dcb",
   "metadata": {
    "ExecuteTime": {
     "end_time": "2025-06-21T07:01:57.877156Z",
     "start_time": "2025-06-21T07:01:57.871700Z"
    }
   },
   "source": [
    "s = {(1, 2), 'hi', 42}\n",
    "print(s)"
   ],
   "outputs": [
    {
     "name": "stdout",
     "output_type": "stream",
     "text": [
      "{'hi', (1, 2), 42}\n"
     ]
    }
   ],
   "execution_count": 36
  }
 ],
 "metadata": {},
 "nbformat": 4,
 "nbformat_minor": 5
}
