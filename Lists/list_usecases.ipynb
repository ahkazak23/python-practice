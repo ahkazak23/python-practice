{
 "cells": [
  {
   "metadata": {},
   "cell_type": "markdown",
   "source": "# List notebook",
   "id": "463ba1b8c86cabe4"
  },
  {
   "metadata": {
    "ExecuteTime": {
     "end_time": "2025-06-17T19:51:28.163672Z",
     "start_time": "2025-06-17T19:51:28.155080Z"
    }
   },
   "cell_type": "code",
   "source": [
    "nums = [1, 2, 3, 4, 5]\n",
    "print(\"Original:\", nums)"
   ],
   "id": "1b40994a65ee5a08",
   "outputs": [
    {
     "name": "stdout",
     "output_type": "stream",
     "text": [
      "Original: [1, 2, 3, 4, 5]\n"
     ]
    }
   ],
   "execution_count": 31
  },
  {
   "metadata": {},
   "cell_type": "markdown",
   "source": "# Sort the list",
   "id": "b584029e88e032a3"
  },
  {
   "metadata": {
    "ExecuteTime": {
     "end_time": "2025-06-17T19:51:28.198579Z",
     "start_time": "2025-06-17T19:51:28.193049Z"
    }
   },
   "cell_type": "code",
   "source": [
    "nums.sort()\n",
    "print(\"Sorted:\", nums)"
   ],
   "id": "5ed67c6a90007db0",
   "outputs": [
    {
     "name": "stdout",
     "output_type": "stream",
     "text": [
      "Sorted: [1, 2, 3, 4, 5]\n"
     ]
    }
   ],
   "execution_count": 32
  },
  {
   "metadata": {},
   "cell_type": "markdown",
   "source": "# Reverse the list\n",
   "id": "3316d3847ee4b20"
  },
  {
   "metadata": {
    "ExecuteTime": {
     "end_time": "2025-06-17T19:51:28.232792Z",
     "start_time": "2025-06-17T19:51:28.224678Z"
    }
   },
   "cell_type": "code",
   "source": [
    "nums.reverse()\n",
    "print(\"Reversed:\", nums)"
   ],
   "id": "bfca60e9c7c3d53d",
   "outputs": [
    {
     "name": "stdout",
     "output_type": "stream",
     "text": [
      "Reversed: [5, 4, 3, 2, 1]\n"
     ]
    }
   ],
   "execution_count": 33
  },
  {
   "metadata": {},
   "cell_type": "markdown",
   "source": "# Add elements",
   "id": "ae4808512bcbd300"
  },
  {
   "metadata": {
    "ExecuteTime": {
     "end_time": "2025-06-17T19:51:28.272036Z",
     "start_time": "2025-06-17T19:51:28.265796Z"
    }
   },
   "cell_type": "code",
   "source": [
    "nums.append(6)\n",
    "print(\"After append(6):\", nums)\n",
    "\n",
    "nums.insert(2, 99)\n",
    "print(\"After insert(2, 99):\", nums)\n",
    "\n",
    "nums.extend([7, 8])\n",
    "print(\"After extend([7, 8]):\", nums)"
   ],
   "id": "49734d00c6be697d",
   "outputs": [
    {
     "name": "stdout",
     "output_type": "stream",
     "text": [
      "After append(6): [5, 4, 3, 2, 1, 6]\n",
      "After insert(2, 99): [5, 4, 99, 3, 2, 1, 6]\n",
      "After extend([7, 8]): [5, 4, 99, 3, 2, 1, 6, 7, 8]\n"
     ]
    }
   ],
   "execution_count": 34
  },
  {
   "metadata": {},
   "cell_type": "markdown",
   "source": "# Remove elements",
   "id": "abc2b6033d89e365"
  },
  {
   "metadata": {
    "ExecuteTime": {
     "end_time": "2025-06-17T19:51:28.318940Z",
     "start_time": "2025-06-17T19:51:28.310978Z"
    }
   },
   "cell_type": "code",
   "source": [
    "# Remove elements\n",
    "nums.remove(3)\n",
    "print(\"After remove(3):\", nums)\n",
    "\n",
    "nums.pop()\n",
    "print(\"After pop():\", nums)\n",
    "\n",
    "nums.pop(1)\n",
    "print(\"After pop(1):\", nums)"
   ],
   "id": "5dc7c285624c9202",
   "outputs": [
    {
     "name": "stdout",
     "output_type": "stream",
     "text": [
      "After remove(3): [5, 4, 99, 2, 1, 6, 7, 8]\n",
      "After pop(): [5, 4, 99, 2, 1, 6, 7]\n",
      "After pop(1): [5, 99, 2, 1, 6, 7]\n"
     ]
    }
   ],
   "execution_count": 35
  },
  {
   "metadata": {},
   "cell_type": "markdown",
   "source": "# Accessing elements",
   "id": "1ce08ff27c2710c"
  },
  {
   "metadata": {
    "ExecuteTime": {
     "end_time": "2025-06-17T19:51:28.378986Z",
     "start_time": "2025-06-17T19:51:28.368288Z"
    }
   },
   "cell_type": "code",
   "source": [
    "print(\"First element:\", nums[0])\n",
    "print(\"Last element:\", nums[-1])\n",
    "print(\"Slice [1:4]:\", nums[1:4])"
   ],
   "id": "c5ebb20ca65f73ce",
   "outputs": [
    {
     "name": "stdout",
     "output_type": "stream",
     "text": [
      "First element: 5\n",
      "Last element: 7\n",
      "Slice [1:4]: [99, 2, 1]\n"
     ]
    }
   ],
   "execution_count": 36
  },
  {
   "metadata": {},
   "cell_type": "markdown",
   "source": "# Finding things",
   "id": "40646313c18dedd6"
  },
  {
   "metadata": {
    "ExecuteTime": {
     "end_time": "2025-06-17T19:51:28.416754Z",
     "start_time": "2025-06-17T19:51:28.412286Z"
    }
   },
   "cell_type": "code",
   "source": [
    "try:\n",
    "    print(\"Index of 4:\", nums.index(4))\n",
    "except ValueError as e:\n",
    "    print(\"Error in index of 4:\", e)\n",
    "\n",
    "try:\n",
    "    print(\"Is 4 in list?:\", 4 in nums)\n",
    "except Exception as e:\n",
    "    print(\"Unexpected error in checking 4 in list:\", e)\n",
    "\n",
    "try:\n",
    "    print(\"Count of 2:\", nums.count(2))\n",
    "except Exception as e:\n",
    "    print(\"Unexpected error in counting 2:\", e)"
   ],
   "id": "3d4a13d3373d0f6c",
   "outputs": [
    {
     "name": "stdout",
     "output_type": "stream",
     "text": [
      "Error in index of 4: 4 is not in list\n",
      "Is 4 in list?: False\n",
      "Count of 2: 1\n"
     ]
    }
   ],
   "execution_count": 37
  },
  {
   "metadata": {},
   "cell_type": "markdown",
   "source": "# List math",
   "id": "d9e28d5982303a70"
  },
  {
   "metadata": {
    "ExecuteTime": {
     "end_time": "2025-06-17T19:51:28.446121Z",
     "start_time": "2025-06-17T19:51:28.440734Z"
    }
   },
   "cell_type": "code",
   "source": [
    "print(\"Length:\", len(nums))\n",
    "print(\"Sum:\", sum(nums))\n",
    "print(\"Max:\", max(nums))\n",
    "print(\"Min:\", min(nums))"
   ],
   "id": "53672a59e6275386",
   "outputs": [
    {
     "name": "stdout",
     "output_type": "stream",
     "text": [
      "Length: 6\n",
      "Sum: 120\n",
      "Max: 99\n",
      "Min: 1\n"
     ]
    }
   ],
   "execution_count": 38
  },
  {
   "metadata": {},
   "cell_type": "markdown",
   "source": "# Looping\n",
   "id": "c0b779604a5852e5"
  },
  {
   "metadata": {
    "ExecuteTime": {
     "end_time": "2025-06-17T19:51:28.493014Z",
     "start_time": "2025-06-17T19:51:28.485848Z"
    }
   },
   "cell_type": "code",
   "source": [
    "print(\"Loop through values:\")\n",
    "for num in nums:\n",
    "    print(num)\n",
    "\n",
    "print(\"Loop with index:\")\n",
    "for i, num in enumerate(nums):\n",
    "    print(f\"Index {i}: {num}\")"
   ],
   "id": "c7e08e6d3a5453ff",
   "outputs": [
    {
     "name": "stdout",
     "output_type": "stream",
     "text": [
      "Loop through values:\n",
      "5\n",
      "99\n",
      "2\n",
      "1\n",
      "6\n",
      "7\n",
      "Loop with index:\n",
      "Index 0: 5\n",
      "Index 1: 99\n",
      "Index 2: 2\n",
      "Index 3: 1\n",
      "Index 4: 6\n",
      "Index 5: 7\n"
     ]
    }
   ],
   "execution_count": 39
  },
  {
   "metadata": {},
   "cell_type": "markdown",
   "source": "# List comprehension",
   "id": "d0b50d462fdd041a"
  },
  {
   "metadata": {
    "ExecuteTime": {
     "end_time": "2025-06-17T19:51:28.549745Z",
     "start_time": "2025-06-17T19:51:28.544135Z"
    }
   },
   "cell_type": "code",
   "source": [
    "squares = [x**2 for x in nums]\n",
    "print(\"Squares:\", squares)\n",
    "\n",
    "evens = [x for x in nums if x % 2 == 0]\n",
    "print(\"Evens:\", evens)"
   ],
   "id": "e4f820a4c562b61d",
   "outputs": [
    {
     "name": "stdout",
     "output_type": "stream",
     "text": [
      "Squares: [25, 9801, 4, 1, 36, 49]\n",
      "Evens: [2, 6]\n"
     ]
    }
   ],
   "execution_count": 40
  },
  {
   "metadata": {},
   "cell_type": "markdown",
   "source": "# Copying",
   "id": "75aec9075305f4f9"
  },
  {
   "metadata": {
    "ExecuteTime": {
     "end_time": "2025-06-17T19:53:47.840563Z",
     "start_time": "2025-06-17T19:53:47.834112Z"
    }
   },
   "cell_type": "code",
   "source": [
    "copy1 = nums[:]\n",
    "copy2 = nums.copy()\n",
    "print(\"Copied list (slice):\", copy1)\n",
    "print(\"Copied list (copy):\", copy2)"
   ],
   "id": "a0ffa827ae0a6dc2",
   "outputs": [
    {
     "name": "stdout",
     "output_type": "stream",
     "text": [
      "Copied list (slice): [5, 99, 2, 1, 6, 7]\n",
      "Copied list (copy): [5, 99, 2, 1, 6, 7]\n"
     ]
    }
   ],
   "execution_count": 43
  },
  {
   "metadata": {},
   "cell_type": "markdown",
   "source": "# Clearing",
   "id": "328b992e7e3f11da"
  },
  {
   "metadata": {
    "ExecuteTime": {
     "end_time": "2025-06-17T19:54:04.384832Z",
     "start_time": "2025-06-17T19:54:04.380270Z"
    }
   },
   "cell_type": "code",
   "source": [
    "nums.clear()\n",
    "print(\"After clear():\", nums)"
   ],
   "id": "ce0540518add7d15",
   "outputs": [
    {
     "name": "stdout",
     "output_type": "stream",
     "text": [
      "After clear(): []\n"
     ]
    }
   ],
   "execution_count": 44
  },
  {
   "metadata": {},
   "cell_type": "markdown",
   "source": "# === LIST OPERATIONS & EDGE CASES ===",
   "id": "990d3d8d98607366"
  },
  {
   "metadata": {
    "ExecuteTime": {
     "end_time": "2025-06-17T21:05:49.966242Z",
     "start_time": "2025-06-17T21:05:49.958217Z"
    }
   },
   "cell_type": "code",
   "source": [
    "# 1. remove() only deletes the first match\n",
    "nums = [1, 2, 2, 3]\n",
    "nums.remove(2)\n",
    "print(\"After remove(2):\", nums)  # Only first '2' is removed\n",
    "\n",
    "# 2. index() throws error if not found\n",
    "nums = [1, 2, 3]\n",
    "try:\n",
    "    print(\"Index of 5:\", nums.index(5))  # Will raise ValueError\n",
    "except ValueError:\n",
    "    print(\"ValueError: 5 not found in list\")\n",
    "\n",
    "# 3. sort() and reverse() return None (they work in-place)\n",
    "nums = [3, 1, 2]\n",
    "x = nums.sort()\n",
    "print(\"Return of sort():\", x)            # None\n",
    "print(\"List after sort():\", nums)        # Sorted list\n",
    "\n",
    "# 4. Copying a nested list is shallow\n",
    "nested = [[1], [2]]\n",
    "copy1 = nested.copy()\n",
    "nested[0][0] = 99\n",
    "print(\"Original nested:\", nested)\n",
    "print(\"Shallow copy affected:\", copy1)  # Shows mutation\n",
    "\n",
    "# Use deepcopy to avoid it\n",
    "from copy import deepcopy\n",
    "nested = [[1], [2]]\n",
    "copy2 = deepcopy(nested)\n",
    "nested[0][0] = 42\n",
    "print(\"Original nested (modified):\", nested)\n",
    "print(\"Deep copy safe:\", copy2)\n",
    "\n",
    "# 5. append() vs +=\n",
    "nums = [1, 2]\n",
    "nums += [3, 4]        # Adds each element\n",
    "print(\"After += [3, 4]:\", nums)\n",
    "\n",
    "nums.append([5, 6])   # Appends as one nested list\n",
    "print(\"After append([5, 6]):\", nums)  # Last item is a list\n",
    "\n",
    "# 6. Clearing the list affects references\n",
    "a = [1, 2, 3]\n",
    "b = a\n",
    "a.clear()\n",
    "print(\"After clear():\", a, b)  # Both a and b are empty (same object)\n",
    "\n",
    "# 7. Pop from empty list throws error\n",
    "empty = []\n",
    "try:\n",
    "    empty.pop()\n",
    "except IndexError:\n",
    "    print(\"IndexError: pop from empty list\")"
   ],
   "id": "8478a8f1ebfb6460",
   "outputs": [
    {
     "name": "stdout",
     "output_type": "stream",
     "text": [
      "After remove(2): [1, 2, 3]\n",
      "ValueError: 5 not found in list\n",
      "Return of sort(): None\n",
      "List after sort(): [1, 2, 3]\n",
      "Original nested: [[99], [2]]\n",
      "Shallow copy affected: [[99], [2]]\n",
      "Original nested (modified): [[42], [2]]\n",
      "Deep copy safe: [[1], [2]]\n",
      "After += [3, 4]: [1, 2, 3, 4]\n",
      "After append([5, 6]): [1, 2, 3, 4, [5, 6]]\n",
      "After clear(): [] []\n",
      "IndexError: pop from empty list\n"
     ]
    }
   ],
   "execution_count": 48
  },
  {
   "metadata": {},
   "cell_type": "code",
   "outputs": [],
   "execution_count": null,
   "source": "",
   "id": "fa06c6f0b8170118"
  }
 ],
 "metadata": {
  "kernelspec": {
   "display_name": "Python 3",
   "language": "python",
   "name": "python3"
  },
  "language_info": {
   "codemirror_mode": {
    "name": "ipython",
    "version": 2
   },
   "file_extension": ".py",
   "mimetype": "text/x-python",
   "name": "python",
   "nbconvert_exporter": "python",
   "pygments_lexer": "ipython2",
   "version": "2.7.6"
  }
 },
 "nbformat": 4,
 "nbformat_minor": 5
}
