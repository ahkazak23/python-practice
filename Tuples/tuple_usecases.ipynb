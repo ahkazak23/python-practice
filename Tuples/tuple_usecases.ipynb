{
 "cells": [
  {
   "metadata": {},
   "cell_type": "markdown",
   "source": "#  Tuple creation",
   "id": "b47a151d6d41e4e9"
  },
  {
   "cell_type": "code",
   "id": "initial_id",
   "metadata": {
    "collapsed": true,
    "ExecuteTime": {
     "end_time": "2025-06-18T10:37:21.705015Z",
     "start_time": "2025-06-18T10:37:21.687059Z"
    }
   },
   "source": [
    "t = (1, 2, 3)\n",
    "print(t)  # (1, 2, 3)"
   ],
   "outputs": [
    {
     "name": "stdout",
     "output_type": "stream",
     "text": [
      "(1, 2, 3)\n"
     ]
    }
   ],
   "execution_count": 1
  },
  {
   "metadata": {},
   "cell_type": "markdown",
   "source": "#   Single-element tuple (edge case)",
   "id": "e73546bd578a3e26"
  },
  {
   "metadata": {
    "ExecuteTime": {
     "end_time": "2025-06-18T10:37:21.762456Z",
     "start_time": "2025-06-18T10:37:21.756841Z"
    }
   },
   "cell_type": "code",
   "source": [
    "t = (1,)  # comma is required\n",
    "print(type(t))  # <class 'tuple'>"
   ],
   "id": "c1738374379057ec",
   "outputs": [
    {
     "name": "stdout",
     "output_type": "stream",
     "text": [
      "<class 'tuple'>\n"
     ]
    }
   ],
   "execution_count": 2
  },
  {
   "metadata": {},
   "cell_type": "markdown",
   "source": "# Not a tuple (no comma)",
   "id": "dc540f3b655d79cb"
  },
  {
   "metadata": {
    "ExecuteTime": {
     "end_time": "2025-06-18T10:37:21.790200Z",
     "start_time": "2025-06-18T10:37:21.785177Z"
    }
   },
   "cell_type": "code",
   "source": [
    "t = (1)\n",
    "print(type(t))  # <class 'int'>, not a tuple"
   ],
   "id": "a43c28aff1fb0e62",
   "outputs": [
    {
     "name": "stdout",
     "output_type": "stream",
     "text": [
      "<class 'int'>\n"
     ]
    }
   ],
   "execution_count": 3
  },
  {
   "metadata": {},
   "cell_type": "markdown",
   "source": "# Empty tuple",
   "id": "81c985673790702e"
  },
  {
   "metadata": {
    "ExecuteTime": {
     "end_time": "2025-06-18T10:37:22.238078Z",
     "start_time": "2025-06-18T10:37:22.233878Z"
    }
   },
   "cell_type": "code",
   "source": [
    "t = ()\n",
    "print(type(t))  # <class 'tuple'>"
   ],
   "id": "d3ab3fc12ae48476",
   "outputs": [
    {
     "name": "stdout",
     "output_type": "stream",
     "text": [
      "<class 'tuple'>\n"
     ]
    }
   ],
   "execution_count": 4
  },
  {
   "metadata": {},
   "cell_type": "markdown",
   "source": "# Tuple with mixed types",
   "id": "7049f289b252138f"
  },
  {
   "metadata": {
    "ExecuteTime": {
     "end_time": "2025-06-18T10:37:22.268632Z",
     "start_time": "2025-06-18T10:37:22.264576Z"
    }
   },
   "cell_type": "code",
   "source": [
    "t = (1, \"hello\", 3.14, True)\n",
    "print(t)  # (1, 'hello', 3.14, True)"
   ],
   "id": "db9ce96e4c994441",
   "outputs": [
    {
     "name": "stdout",
     "output_type": "stream",
     "text": [
      "(1, 'hello', 3.14, True)\n"
     ]
    }
   ],
   "execution_count": 5
  },
  {
   "metadata": {},
   "cell_type": "markdown",
   "source": "# Tuple unpacking",
   "id": "aff2fc07c140205"
  },
  {
   "metadata": {
    "ExecuteTime": {
     "end_time": "2025-06-18T10:39:36.804846Z",
     "start_time": "2025-06-18T10:39:36.800056Z"
    }
   },
   "cell_type": "code",
   "source": [
    "a, b, c = (10, 20, 30)\n",
    "print(a, b, c)  # 10 20 30"
   ],
   "id": "6543588f09ee94dd",
   "outputs": [
    {
     "name": "stdout",
     "output_type": "stream",
     "text": [
      "10 20 30\n"
     ]
    }
   ],
   "execution_count": 32
  },
  {
   "metadata": {},
   "cell_type": "markdown",
   "source": "# Unpacking with fewer variables",
   "id": "355bfbabd72f0f52"
  },
  {
   "metadata": {
    "ExecuteTime": {
     "end_time": "2025-06-18T10:39:53.249030Z",
     "start_time": "2025-06-18T10:39:53.224087Z"
    }
   },
   "cell_type": "code",
   "source": "a, b = (1, 2, 3, 4)  # ValueError: too many values to unpack",
   "id": "ba6a3c8aa42fb72b",
   "outputs": [
    {
     "ename": "ValueError",
     "evalue": "too many values to unpack (expected 2)",
     "output_type": "error",
     "traceback": [
      "\u001B[31m---------------------------------------------------------------------------\u001B[39m",
      "\u001B[31mValueError\u001B[39m                                Traceback (most recent call last)",
      "\u001B[36mCell\u001B[39m\u001B[36m \u001B[39m\u001B[32mIn[33]\u001B[39m\u001B[32m, line 1\u001B[39m\n\u001B[32m----> \u001B[39m\u001B[32m1\u001B[39m a, b = (\u001B[32m1\u001B[39m, \u001B[32m2\u001B[39m, \u001B[32m3\u001B[39m, \u001B[32m4\u001B[39m)  \u001B[38;5;66;03m# ValueError: too many values to unpack\u001B[39;00m\n",
      "\u001B[31mValueError\u001B[39m: too many values to unpack (expected 2)"
     ]
    }
   ],
   "execution_count": 33
  },
  {
   "metadata": {},
   "cell_type": "markdown",
   "source": "# Tuple in function return",
   "id": "5f780ee34c7a6ca4"
  },
  {
   "metadata": {
    "ExecuteTime": {
     "end_time": "2025-06-18T10:37:33.930368Z",
     "start_time": "2025-06-18T10:37:33.923886Z"
    }
   },
   "cell_type": "code",
   "source": [
    "def get_user():\n",
    "    return (\"Alihan\", 24)\n",
    "\n",
    "name, age = get_user()\n",
    "print(name, age)  # Alihan 24"
   ],
   "id": "cf2b3c3ecaf2aed6",
   "outputs": [
    {
     "name": "stdout",
     "output_type": "stream",
     "text": [
      "Alihan 24\n"
     ]
    }
   ],
   "execution_count": 8
  },
  {
   "metadata": {},
   "cell_type": "markdown",
   "source": "# Tuples are immutable",
   "id": "ce47e7c9b0765276"
  },
  {
   "metadata": {
    "ExecuteTime": {
     "end_time": "2025-06-18T10:37:35.787190Z",
     "start_time": "2025-06-18T10:37:35.781786Z"
    }
   },
   "cell_type": "code",
   "source": [
    "t = (1, 2, 3)\n",
    "# t[0] = 100  # TypeError: 'tuple' object does not support item assignment"
   ],
   "id": "e6eccdfd6bb2a5c7",
   "outputs": [],
   "execution_count": 9
  },
  {
   "metadata": {},
   "cell_type": "markdown",
   "source": "# Tuples can contain mutable objects",
   "id": "40af79d71aa13e98"
  },
  {
   "metadata": {
    "ExecuteTime": {
     "end_time": "2025-06-18T10:37:36.617792Z",
     "start_time": "2025-06-18T10:37:36.612694Z"
    }
   },
   "cell_type": "code",
   "source": [
    "t = ([1, 2], 3)\n",
    "t[0].append(4)\n",
    "print(t)  # ([1, 2, 4], 3)"
   ],
   "id": "7fa3b555515ffd42",
   "outputs": [
    {
     "name": "stdout",
     "output_type": "stream",
     "text": [
      "([1, 2, 4], 3)\n"
     ]
    }
   ],
   "execution_count": 10
  },
  {
   "metadata": {},
   "cell_type": "markdown",
   "source": "# Tuple as dictionary key (hashable)",
   "id": "9ae7201684d461b6"
  },
  {
   "metadata": {
    "ExecuteTime": {
     "end_time": "2025-06-18T10:37:37.144360Z",
     "start_time": "2025-06-18T10:37:37.138931Z"
    }
   },
   "cell_type": "code",
   "source": [
    "d = { (1, 2): \"value\" }\n",
    "print(d[(1, 2)])  # \"value\""
   ],
   "id": "2e9c4dffb8c6ba94",
   "outputs": [
    {
     "name": "stdout",
     "output_type": "stream",
     "text": [
      "value\n"
     ]
    }
   ],
   "execution_count": 11
  },
  {
   "metadata": {},
   "cell_type": "markdown",
   "source": "# Unhashable tuple (contains list)",
   "id": "eed1909f613efe53"
  },
  {
   "metadata": {
    "ExecuteTime": {
     "end_time": "2025-06-18T10:43:42.327978Z",
     "start_time": "2025-06-18T10:43:42.303747Z"
    }
   },
   "cell_type": "code",
   "source": [
    "# t = ([1, 2], 3)\n",
    "# d = {t: \"fail\"}  # TypeError: unhashable type: 'list'"
   ],
   "id": "6cfc103f2d455886",
   "outputs": [
    {
     "ename": "TypeError",
     "evalue": "unhashable type: 'list'",
     "output_type": "error",
     "traceback": [
      "\u001B[31m---------------------------------------------------------------------------\u001B[39m",
      "\u001B[31mTypeError\u001B[39m                                 Traceback (most recent call last)",
      "\u001B[36mCell\u001B[39m\u001B[36m \u001B[39m\u001B[32mIn[36]\u001B[39m\u001B[32m, line 2\u001B[39m\n\u001B[32m      1\u001B[39m t = ([\u001B[32m1\u001B[39m, \u001B[32m2\u001B[39m], \u001B[32m3\u001B[39m)\n\u001B[32m----> \u001B[39m\u001B[32m2\u001B[39m d = {t: \u001B[33m\"\u001B[39m\u001B[33mfail\u001B[39m\u001B[33m\"\u001B[39m}  \u001B[38;5;66;03m# TypeError: unhashable type: 'list'\u001B[39;00m\n",
      "\u001B[31mTypeError\u001B[39m: unhashable type: 'list'"
     ]
    }
   ],
   "execution_count": 36
  },
  {
   "metadata": {},
   "cell_type": "markdown",
   "source": "# Tuple concatenation",
   "id": "b6a69c9873bc2a8a"
  },
  {
   "metadata": {
    "ExecuteTime": {
     "end_time": "2025-06-18T10:37:37.897435Z",
     "start_time": "2025-06-18T10:37:37.892939Z"
    }
   },
   "cell_type": "code",
   "source": [
    "a = (1, 2)\n",
    "b = (3, 4)\n",
    "print(a + b)  # (1, 2, 3, 4)"
   ],
   "id": "59c28c1e33eb52eb",
   "outputs": [
    {
     "name": "stdout",
     "output_type": "stream",
     "text": [
      "(1, 2, 3, 4)\n"
     ]
    }
   ],
   "execution_count": 13
  },
  {
   "metadata": {},
   "cell_type": "markdown",
   "source": "# Tuple repetition",
   "id": "ad29f38b84f5115d"
  },
  {
   "metadata": {
    "ExecuteTime": {
     "end_time": "2025-06-18T10:45:08.312085Z",
     "start_time": "2025-06-18T10:45:08.306535Z"
    }
   },
   "cell_type": "code",
   "source": [
    "t = (1, 2)\n",
    "print(t * 7)  # (1, 2, 1, 2, 1, 2)"
   ],
   "id": "5bc6e9ba2ce2378b",
   "outputs": [
    {
     "name": "stdout",
     "output_type": "stream",
     "text": [
      "(1, 2, 1, 2, 1, 2, 1, 2, 1, 2, 1, 2, 1, 2)\n"
     ]
    }
   ],
   "execution_count": 37
  },
  {
   "metadata": {},
   "cell_type": "markdown",
   "source": "# Nested tuples",
   "id": "67f5ea1e8e4ddd82"
  },
  {
   "metadata": {
    "ExecuteTime": {
     "end_time": "2025-06-18T10:37:38.595700Z",
     "start_time": "2025-06-18T10:37:38.591697Z"
    }
   },
   "cell_type": "code",
   "source": [
    "t = ((1, 2), (3, 4))\n",
    "print(t[0][1])  # 2"
   ],
   "id": "d4280c4a7313404b",
   "outputs": [
    {
     "name": "stdout",
     "output_type": "stream",
     "text": [
      "2\n"
     ]
    }
   ],
   "execution_count": 15
  },
  {
   "metadata": {},
   "cell_type": "markdown",
   "source": [
    "# Tuple slicing\n",
    "\n"
   ],
   "id": "44d0cd4df86e697a"
  },
  {
   "metadata": {
    "ExecuteTime": {
     "end_time": "2025-06-18T10:37:38.956517Z",
     "start_time": "2025-06-18T10:37:38.952551Z"
    }
   },
   "cell_type": "code",
   "source": [
    "t = (0, 1, 2, 3, 4)\n",
    "print(t[1:4])  # (1, 2, 3)"
   ],
   "id": "a9fbdddaf6ca6d1f",
   "outputs": [
    {
     "name": "stdout",
     "output_type": "stream",
     "text": [
      "(1, 2, 3)\n"
     ]
    }
   ],
   "execution_count": 16
  },
  {
   "metadata": {},
   "cell_type": "markdown",
   "source": [
    "# Tuple length\n",
    "\n"
   ],
   "id": "dfcf210bdf11f95b"
  },
  {
   "metadata": {
    "ExecuteTime": {
     "end_time": "2025-06-18T10:37:39.350338Z",
     "start_time": "2025-06-18T10:37:39.346623Z"
    }
   },
   "cell_type": "code",
   "source": [
    "t = (1, 2, 3)\n",
    "print(len(t))  # 3"
   ],
   "id": "e32dc87f1dba77b0",
   "outputs": [
    {
     "name": "stdout",
     "output_type": "stream",
     "text": [
      "3\n"
     ]
    }
   ],
   "execution_count": 17
  },
  {
   "metadata": {},
   "cell_type": "markdown",
   "source": [
    "# Membership test with 'in'\n",
    "\n"
   ],
   "id": "fd574e79c29a158d"
  },
  {
   "metadata": {
    "ExecuteTime": {
     "end_time": "2025-06-18T10:37:39.777970Z",
     "start_time": "2025-06-18T10:37:39.772980Z"
    }
   },
   "cell_type": "code",
   "source": [
    "t = (1, 2, 3)\n",
    "print(2 in t)  # True\n",
    "print(4 in t)  # False"
   ],
   "id": "7b3fd68da7b33fe6",
   "outputs": [
    {
     "name": "stdout",
     "output_type": "stream",
     "text": [
      "True\n",
      "False\n"
     ]
    }
   ],
   "execution_count": 18
  },
  {
   "metadata": {},
   "cell_type": "markdown",
   "source": [
    "# Iterating over tuple\n",
    "\n"
   ],
   "id": "5e256d3798493ce4"
  },
  {
   "metadata": {
    "ExecuteTime": {
     "end_time": "2025-06-18T10:37:40.267669Z",
     "start_time": "2025-06-18T10:37:40.263243Z"
    }
   },
   "cell_type": "code",
   "source": [
    "t = ('a', 'b', 'c')\n",
    "for i in t:\n",
    "    print(i)"
   ],
   "id": "c930c65bfd42b2f7",
   "outputs": [
    {
     "name": "stdout",
     "output_type": "stream",
     "text": [
      "a\n",
      "b\n",
      "c\n"
     ]
    }
   ],
   "execution_count": 19
  },
  {
   "metadata": {},
   "cell_type": "markdown",
   "source": [
    "# Tuple comprehension using generator\n",
    "\n"
   ],
   "id": "6dd44f911c97bee6"
  },
  {
   "metadata": {
    "ExecuteTime": {
     "end_time": "2025-06-18T10:37:40.675389Z",
     "start_time": "2025-06-18T10:37:40.663897Z"
    }
   },
   "cell_type": "code",
   "source": [
    "gen = tuple(x for x in range(3))\n",
    "print(gen)  # (0, 1, 2)"
   ],
   "id": "9aa496c8e45393b6",
   "outputs": [
    {
     "name": "stdout",
     "output_type": "stream",
     "text": [
      "(0, 1, 2)\n"
     ]
    }
   ],
   "execution_count": 20
  },
  {
   "metadata": {},
   "cell_type": "markdown",
   "source": [
    "# Swapping values using tuple unpacking\n",
    "\n"
   ],
   "id": "e38408d02eddbb1c"
  },
  {
   "metadata": {
    "ExecuteTime": {
     "end_time": "2025-06-18T10:37:41.120994Z",
     "start_time": "2025-06-18T10:37:41.116383Z"
    }
   },
   "cell_type": "code",
   "source": [
    "a, b = 1, 2\n",
    "a, b = b, a\n",
    "print(a, b)  # 2, 1"
   ],
   "id": "bdffd1e524f46cc4",
   "outputs": [
    {
     "name": "stdout",
     "output_type": "stream",
     "text": [
      "2 1\n"
     ]
    }
   ],
   "execution_count": 21
  },
  {
   "metadata": {},
   "cell_type": "markdown",
   "source": [
    "# Tuple used for fixed return values\n",
    "\n"
   ],
   "id": "ccbc9e7ba2791aba"
  },
  {
   "metadata": {
    "ExecuteTime": {
     "end_time": "2025-06-18T10:37:41.579787Z",
     "start_time": "2025-06-18T10:37:41.574359Z"
    }
   },
   "cell_type": "code",
   "source": [
    "def stats(numbers):\n",
    "    return (min(numbers), max(numbers), sum(numbers))\n",
    "\n",
    "mi, ma, su = stats([5, 7, 3])\n",
    "print(mi, ma, su)  # 3 7 15"
   ],
   "id": "e09d107086ee90d5",
   "outputs": [
    {
     "name": "stdout",
     "output_type": "stream",
     "text": [
      "3 7 15\n"
     ]
    }
   ],
   "execution_count": 22
  },
  {
   "metadata": {},
   "cell_type": "markdown",
   "source": [
    "# Starred unpacking in tuple\n",
    "\n"
   ],
   "id": "5bd58b3fab378ca"
  },
  {
   "metadata": {
    "ExecuteTime": {
     "end_time": "2025-06-18T10:49:09.465436Z",
     "start_time": "2025-06-18T10:49:09.460575Z"
    }
   },
   "cell_type": "code",
   "source": [
    "a, b, *c = (1, 2, 3, 4, 5)\n",
    "print(a, b, c)  # 1 [2, 3, 4] 5"
   ],
   "id": "c5e2bbfe7afc3fe7",
   "outputs": [
    {
     "name": "stdout",
     "output_type": "stream",
     "text": [
      "1 2 [3, 4, 5]\n"
     ]
    }
   ],
   "execution_count": 39
  },
  {
   "metadata": {},
   "cell_type": "markdown",
   "source": [
    "# Tuple with zip()\n",
    "\n"
   ],
   "id": "2529898ff31aad4f"
  },
  {
   "metadata": {
    "ExecuteTime": {
     "end_time": "2025-06-18T10:37:42.714059Z",
     "start_time": "2025-06-18T10:37:42.708301Z"
    }
   },
   "cell_type": "code",
   "source": [
    "names = (\"Ali\", \"Yahya\")\n",
    "ages = (24, 26)\n",
    "for n, a in zip(names, ages):\n",
    "    print(f\"{n} is {a}\")"
   ],
   "id": "ad29c98be388731b",
   "outputs": [
    {
     "name": "stdout",
     "output_type": "stream",
     "text": [
      "Ali is 24\n",
      "Yahya is 26\n"
     ]
    }
   ],
   "execution_count": 24
  },
  {
   "metadata": {},
   "cell_type": "markdown",
   "source": [
    "# Tuple with enumerate()\n",
    "\n"
   ],
   "id": "f0671725ad840b47"
  },
  {
   "metadata": {
    "ExecuteTime": {
     "end_time": "2025-06-18T10:37:43.185153Z",
     "start_time": "2025-06-18T10:37:43.179658Z"
    }
   },
   "cell_type": "code",
   "source": [
    "t = ('x', 'y', 'z')\n",
    "for i, val in enumerate(t):\n",
    "    print(i, val)"
   ],
   "id": "eeec72cb70d1089d",
   "outputs": [
    {
     "name": "stdout",
     "output_type": "stream",
     "text": [
      "0 x\n",
      "1 y\n",
      "2 z\n"
     ]
    }
   ],
   "execution_count": 25
  },
  {
   "metadata": {},
   "cell_type": "markdown",
   "source": [
    "# Tuple as default function argument\n",
    "\n"
   ],
   "id": "b53cf8533e21a517"
  },
  {
   "metadata": {
    "ExecuteTime": {
     "end_time": "2025-06-18T10:37:43.661271Z",
     "start_time": "2025-06-18T10:37:43.656041Z"
    }
   },
   "cell_type": "code",
   "source": [
    "def f(items=(1, 2)):\n",
    "    return items\n",
    "\n",
    "print(f())  # (1, 2)"
   ],
   "id": "840b956cdb251dd9",
   "outputs": [
    {
     "name": "stdout",
     "output_type": "stream",
     "text": [
      "(1, 2)\n"
     ]
    }
   ],
   "execution_count": 26
  },
  {
   "metadata": {},
   "cell_type": "markdown",
   "source": [
    "# Tuple comparison behavior\n",
    "\n"
   ],
   "id": "af980fde410fe82e"
  },
  {
   "metadata": {
    "ExecuteTime": {
     "end_time": "2025-06-18T10:37:44.173898Z",
     "start_time": "2025-06-18T10:37:44.168267Z"
    }
   },
   "cell_type": "code",
   "source": [
    "print((1, 2) < (1, 3))  # True\n",
    "print((1, 2) > (0, 99))  # True"
   ],
   "id": "37fbffcc9d8bc500",
   "outputs": [
    {
     "name": "stdout",
     "output_type": "stream",
     "text": [
      "True\n",
      "True\n"
     ]
    }
   ],
   "execution_count": 27
  },
  {
   "metadata": {},
   "cell_type": "markdown",
   "source": [
    "# Memory size: tuple vs list\n",
    "\n"
   ],
   "id": "a224db46003f14b4"
  },
  {
   "metadata": {
    "ExecuteTime": {
     "end_time": "2025-06-18T10:53:37.338349Z",
     "start_time": "2025-06-18T10:53:37.330361Z"
    }
   },
   "cell_type": "code",
   "source": [
    "from sys import getsizeof\n",
    "\n",
    "print(getsizeof((1, 2, 3, 4, 5)))  # Smaller memory than list\n",
    "print(getsizeof([1, 2, 3, 4, 5]))  # Larger memory than tuple"
   ],
   "id": "97da98d70cdc9c69",
   "outputs": [
    {
     "name": "stdout",
     "output_type": "stream",
     "text": [
      "80\n",
      "104\n"
     ]
    }
   ],
   "execution_count": 40
  },
  {
   "metadata": {},
   "cell_type": "markdown",
   "source": [
    "# Performance: tuple vs list in loop\n",
    "\n"
   ],
   "id": "f41ba195bcc73200"
  },
  {
   "metadata": {
    "ExecuteTime": {
     "end_time": "2025-06-18T10:37:45.250837Z",
     "start_time": "2025-06-18T10:37:45.130524Z"
    }
   },
   "cell_type": "code",
   "source": [
    "import timeit\n",
    "\n",
    "print(timeit.timeit(\"for _ in (1,2,3): pass\", number=1000000))\n",
    "print(timeit.timeit(\"for _ in [1,2,3]: pass\", number=1000000))"
   ],
   "id": "ebb7e653373442dc",
   "outputs": [
    {
     "name": "stdout",
     "output_type": "stream",
     "text": [
      "0.0561275000218302\n",
      "0.0559470999869518\n"
     ]
    }
   ],
   "execution_count": 29
  },
  {
   "metadata": {},
   "cell_type": "markdown",
   "source": [
    "# Nested tuple unpacking\n",
    "\n"
   ],
   "id": "2ad870120eabef71"
  },
  {
   "metadata": {
    "ExecuteTime": {
     "end_time": "2025-06-18T10:37:45.640570Z",
     "start_time": "2025-06-18T10:37:45.634026Z"
    }
   },
   "cell_type": "code",
   "source": [
    "t = ((1, 2), (3, 4))\n",
    "(a1, a2), (b1, b2) = t\n",
    "print(a1, b2)  # 1 4"
   ],
   "id": "2e863431bded9449",
   "outputs": [
    {
     "name": "stdout",
     "output_type": "stream",
     "text": [
      "1 4\n"
     ]
    }
   ],
   "execution_count": 30
  }
 ],
 "metadata": {
  "kernelspec": {
   "display_name": "Python 3",
   "language": "python",
   "name": "python3"
  },
  "language_info": {
   "codemirror_mode": {
    "name": "ipython",
    "version": 2
   },
   "file_extension": ".py",
   "mimetype": "text/x-python",
   "name": "python",
   "nbconvert_exporter": "python",
   "pygments_lexer": "ipython2",
   "version": "2.7.6"
  }
 },
 "nbformat": 4,
 "nbformat_minor": 5
}
